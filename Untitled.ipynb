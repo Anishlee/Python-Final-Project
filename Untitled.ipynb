{
 "cells": [
  {
   "cell_type": "code",
   "execution_count": 1,
   "id": "composite-likelihood",
   "metadata": {},
   "outputs": [
    {
     "name": "stdout",
     "output_type": "stream",
     "text": []
    },
    {
     "name": "stdout",
     "output_type": "stream",
     "text": []
    },
    {
     "name": "stdout",
     "output_type": "stream",
     "text": []
    },
    {
     "name": "stdout",
     "output_type": "stream",
     "text": []
    },
    {
     "name": "stdout",
     "output_type": "stream",
     "text": []
    },
    {
     "name": "stdout",
     "output_type": "stream",
     "text": []
    },
    {
     "name": "stdout",
     "output_type": "stream",
     "text": []
    },
    {
     "name": "stdout",
     "output_type": "stream",
     "text": []
    },
    {
     "name": "stdout",
     "output_type": "stream",
     "text": []
    },
    {
     "name": "stdout",
     "output_type": "stream",
     "text": []
    },
    {
     "name": "stdout",
     "output_type": "stream",
     "text": []
    },
    {
     "name": "stdout",
     "output_type": "stream",
     "text": []
    },
    {
     "name": "stdout",
     "output_type": "stream",
     "text": []
    },
    {
     "name": "stdout",
     "output_type": "stream",
     "text": []
    },
    {
     "name": "stdout",
     "output_type": "stream",
     "text": []
    },
    {
     "name": "stdout",
     "output_type": "stream",
     "text": []
    },
    {
     "name": "stdout",
     "output_type": "stream",
     "text": []
    },
    {
     "name": "stdout",
     "output_type": "stream",
     "text": []
    },
    {
     "name": "stdout",
     "output_type": "stream",
     "text": []
    },
    {
     "name": "stdout",
     "output_type": "stream",
     "text": []
    },
    {
     "name": "stdout",
     "output_type": "stream",
     "text": []
    },
    {
     "name": "stdout",
     "output_type": "stream",
     "text": []
    },
    {
     "name": "stdout",
     "output_type": "stream",
     "text": []
    },
    {
     "name": "stdout",
     "output_type": "stream",
     "text": []
    },
    {
     "name": "stdout",
     "output_type": "stream",
     "text": []
    },
    {
     "name": "stdout",
     "output_type": "stream",
     "text": []
    },
    {
     "name": "stdout",
     "output_type": "stream",
     "text": []
    },
    {
     "name": "stdout",
     "output_type": "stream",
     "text": []
    },
    {
     "name": "stdout",
     "output_type": "stream",
     "text": []
    },
    {
     "name": "stdout",
     "output_type": "stream",
     "text": []
    },
    {
     "name": "stdout",
     "output_type": "stream",
     "text": [
      "Collecting yfinance\n",
      "  Downloading yfinance-0.1.59.tar.gz (25 kB)\n",
      "Requirement already satisfied: pandas>=0.24 in /srv/conda/envs/notebook/lib/python3.7/site-packages (from yfinance) (1.2.3)\n",
      "Requirement already satisfied: numpy>=1.15 in /srv/conda/envs/notebook/lib/python3.7/site-packages (from yfinance) (1.20.2)\n",
      "Requirement already satisfied: requests>=2.20 in /srv/conda/envs/notebook/lib/python3.7/site-packages (from yfinance) (2.25.1)\n",
      "Collecting multitasking>=0.0.7\n",
      "  Downloading multitasking-0.0.9.tar.gz (8.1 kB)\n",
      "Collecting lxml>=4.5.1\n",
      "  Downloading lxml-4.6.3-cp37-cp37m-manylinux2014_x86_64.whl (6.3 MB)\n",
      "\u001b[K     |████████████████████████████████| 6.3 MB 7.4 MB/s eta 0:00:01\n",
      "\u001b[?25hRequirement already satisfied: python-dateutil>=2.7.3 in /srv/conda/envs/notebook/lib/python3.7/site-packages (from pandas>=0.24->yfinance) (2.8.1)\n",
      "Requirement already satisfied: pytz>=2017.3 in /srv/conda/envs/notebook/lib/python3.7/site-packages (from pandas>=0.24->yfinance) (2021.1)\n",
      "Requirement already satisfied: six>=1.5 in /srv/conda/envs/notebook/lib/python3.7/site-packages (from python-dateutil>=2.7.3->pandas>=0.24->yfinance) (1.15.0)\n",
      "Requirement already satisfied: urllib3<1.27,>=1.21.1 in /srv/conda/envs/notebook/lib/python3.7/site-packages (from requests>=2.20->yfinance) (1.26.3)\n",
      "Requirement already satisfied: certifi>=2017.4.17 in /srv/conda/envs/notebook/lib/python3.7/site-packages (from requests>=2.20->yfinance) (2020.12.5)\n",
      "Requirement already satisfied: idna<3,>=2.5 in /srv/conda/envs/notebook/lib/python3.7/site-packages (from requests>=2.20->yfinance) (2.10)\n",
      "Requirement already satisfied: chardet<5,>=3.0.2 in /srv/conda/envs/notebook/lib/python3.7/site-packages (from requests>=2.20->yfinance) (4.0.0)\n",
      "Building wheels for collected packages: yfinance, multitasking\n",
      "  Building wheel for yfinance (setup.py) ... \u001b[?25ldone\n",
      "\u001b[?25h  Created wheel for yfinance: filename=yfinance-0.1.59-py2.py3-none-any.whl size=23442 sha256=c22ac6d7302f578b0c35244240874d89c3edf24e13f537f4e4167b59ba7fbb4d\n",
      "  Stored in directory: /home/jovyan/.cache/pip/wheels/26/af/8b/fac1b47dffef567f945641cdc9b67bb25fae5725d462a8cf81\n",
      "  Building wheel for multitasking (setup.py) ... \u001b[?25ldone\n",
      "\u001b[?25h  Created wheel for multitasking: filename=multitasking-0.0.9-py3-none-any.whl size=8368 sha256=214f9120b7235a5233983f793fb79e4d5d4bc2db2771da962d4c2eba8395a298\n",
      "  Stored in directory: /home/jovyan/.cache/pip/wheels/ae/25/47/4d68431a7ec1b6c4b5233365934b74c1d4e665bf5f968d363a\n",
      "Successfully built yfinance multitasking\n",
      "Installing collected packages: multitasking, lxml, yfinance\n",
      "Successfully installed lxml-4.6.3 multitasking-0.0.9 yfinance-0.1.59\n",
      "Requirement already satisfied: pandas in /srv/conda/envs/notebook/lib/python3.7/site-packages (1.2.3)\n",
      "Requirement already satisfied: python-dateutil>=2.7.3 in /srv/conda/envs/notebook/lib/python3.7/site-packages (from pandas) (2.8.1)\n",
      "Requirement already satisfied: pytz>=2017.3 in /srv/conda/envs/notebook/lib/python3.7/site-packages (from pandas) (2021.1)\n",
      "Requirement already satisfied: numpy>=1.16.5 in /srv/conda/envs/notebook/lib/python3.7/site-packages (from pandas) (1.20.2)\n",
      "Requirement already satisfied: six>=1.5 in /srv/conda/envs/notebook/lib/python3.7/site-packages (from python-dateutil>=2.7.3->pandas) (1.15.0)\n",
      "Requirement already satisfied: requests in /srv/conda/envs/notebook/lib/python3.7/site-packages (2.25.1)\n",
      "Requirement already satisfied: urllib3<1.27,>=1.21.1 in /srv/conda/envs/notebook/lib/python3.7/site-packages (from requests) (1.26.3)\n",
      "Requirement already satisfied: idna<3,>=2.5 in /srv/conda/envs/notebook/lib/python3.7/site-packages (from requests) (2.10)\n",
      "Requirement already satisfied: chardet<5,>=3.0.2 in /srv/conda/envs/notebook/lib/python3.7/site-packages (from requests) (4.0.0)\n",
      "Requirement already satisfied: certifi>=2017.4.17 in /srv/conda/envs/notebook/lib/python3.7/site-packages (from requests) (2020.12.5)\n",
      "Collecting bs4\n",
      "  Downloading bs4-0.0.1.tar.gz (1.1 kB)\n",
      "Collecting beautifulsoup4\n",
      "  Downloading beautifulsoup4-4.9.3-py3-none-any.whl (115 kB)\n",
      "\u001b[K     |████████████████████████████████| 115 kB 4.3 MB/s eta 0:00:01\n",
      "\u001b[?25hCollecting soupsieve>1.2\n",
      "  Downloading soupsieve-2.2.1-py3-none-any.whl (33 kB)\n",
      "Building wheels for collected packages: bs4\n",
      "  Building wheel for bs4 (setup.py) ... \u001b[?25ldone\n",
      "\u001b[?25h  Created wheel for bs4: filename=bs4-0.0.1-py3-none-any.whl size=1273 sha256=b4f72b8049d9d31e35c1f30d8bee7af0b6a557c546d7a4583dc5fcfab1ab4233\n",
      "  Stored in directory: /home/jovyan/.cache/pip/wheels/0a/9e/ba/20e5bbc1afef3a491f0b3bb74d508f99403aabe76eda2167ca\n",
      "Successfully built bs4\n",
      "Installing collected packages: soupsieve, beautifulsoup4, bs4\n",
      "Successfully installed beautifulsoup4-4.9.3 bs4-0.0.1 soupsieve-2.2.1\n",
      "Collecting plotly\n",
      "  Downloading plotly-4.14.3-py2.py3-none-any.whl (13.2 MB)\n",
      "\u001b[K     |████████████████████████████████| 13.2 MB 4.0 MB/s eta 0:00:01\n",
      "\u001b[?25hCollecting retrying>=1.3.3\n",
      "  Downloading retrying-1.3.3.tar.gz (10 kB)\n",
      "Requirement already satisfied: six in /srv/conda/envs/notebook/lib/python3.7/site-packages (from plotly) (1.15.0)\n",
      "Building wheels for collected packages: retrying\n",
      "  Building wheel for retrying (setup.py) ... \u001b[?25ldone\n",
      "\u001b[?25h  Created wheel for retrying: filename=retrying-1.3.3-py3-none-any.whl size=11429 sha256=f6ec268d7efa1c84959b7b6897cbef6524548b1e47415fd6f414459241a0a69b\n",
      "  Stored in directory: /home/jovyan/.cache/pip/wheels/f9/8d/8d/f6af3f7f9eea3553bc2fe6d53e4b287dad18b06a861ac56ddf\n",
      "Successfully built retrying\n",
      "Installing collected packages: retrying, plotly\n",
      "Successfully installed plotly-4.14.3 retrying-1.3.3\n",
      "        Date   Open   High    Low  Close    Volume  Dividends  Stock Splits\n",
      "0 2010-06-29  3.800  5.000  3.508  4.778  93831500          0           0.0\n",
      "1 2010-06-30  5.158  6.084  4.660  4.766  85935500          0           0.0\n",
      "2 2010-07-01  5.000  5.184  4.054  4.392  41094000          0           0.0\n",
      "3 2010-07-02  4.600  4.620  3.742  3.840  25699000          0           0.0\n",
      "4 2010-07-06  4.000  4.000  3.166  3.222  34334500          0           0.0\n",
      "6\n",
      "          Date Revenue\n",
      "42  2010-09-30      31\n",
      "43  2010-06-30      28\n",
      "44  2010-03-31      21\n",
      "45  2009-09-30      46\n",
      "46  2009-06-30      27\n",
      "        Date      Open      High  ...    Volume  Dividends  Stock Splits\n",
      "0 2002-02-13  6.480513  6.773399  ...  19054000        0.0           0.0\n",
      "1 2002-02-14  6.850831  6.864296  ...   2755400        0.0           0.0\n",
      "2 2002-02-15  6.733001  6.749833  ...   2097400        0.0           0.0\n",
      "3 2002-02-19  6.665671  6.665671  ...   1852600        0.0           0.0\n",
      "4 2002-02-20  6.463681  6.648838  ...   1723200        0.0           0.0\n",
      "\n",
      "[5 rows x 8 columns]\n",
      "6\n",
      "          Date Revenue\n",
      "60  2006-01-31    1667\n",
      "61  2005-10-31     534\n",
      "62  2005-07-31     416\n",
      "63  2005-04-30     475\n",
      "64  2005-01-31     709\n",
      "<class 'pandas.core.frame.DataFrame'>\n",
      "<class 'pandas.core.frame.DataFrame'>\n"
     ]
    },
    {
     "ename": "TypeError",
     "evalue": "Object of type 'list' is not an instance of 'args'",
     "output_type": "error",
     "traceback": [
      "\u001b[0;31m---------------------------------------------------------------------------\u001b[0m\n\u001b[0;31mTypeError\u001b[0m                                 Traceback (most recent call last)",
      "In  \u001b[0;34m[1]\u001b[0m:\nLine \u001b[0;34m73\u001b[0m:    make_graph(tesla_data, tesla_revenue, \u001b[33m'\u001b[39;49;00m\u001b[33mTesla\u001b[39;49;00m\u001b[33m'\u001b[39;49;00m)\n",
      "In  \u001b[0;34m[1]\u001b[0m:\nLine \u001b[0;34m24\u001b[0m:    fig.show()\n",
      "File \u001b[0;34m/srv/conda/envs/notebook/lib/python3.7/site-packages/plotly/basedatatypes.py\u001b[0m, in \u001b[0;32mshow\u001b[0m:\nLine \u001b[0;34m3397\u001b[0m:  \u001b[34mreturn\u001b[39;49;00m pio.show(\u001b[36mself\u001b[39;49;00m, *args, **kwargs)\n",
      "File \u001b[0;34m/srv/conda/envs/notebook/lib/python3.7/site-packages/plotly/io/_renderers.py\u001b[0m, in \u001b[0;32mshow\u001b[0m:\nLine \u001b[0;34m389\u001b[0m:   bundle = renderers._build_mime_bundle(fig_dict, renderers_string=renderer, **kwargs)\n",
      "File \u001b[0;34m/srv/conda/envs/notebook/lib/python3.7/site-packages/plotly/io/_renderers.py\u001b[0m, in \u001b[0;32m_build_mime_bundle\u001b[0m:\nLine \u001b[0;34m286\u001b[0m:   \u001b[36mself\u001b[39;49;00m._activate_pending_renderers(\u001b[36mcls\u001b[39;49;00m=MimetypeRenderer)\n",
      "File \u001b[0;34m/srv/conda/envs/notebook/lib/python3.7/site-packages/plotly/io/_renderers.py\u001b[0m, in \u001b[0;32m_activate_pending_renderers\u001b[0m:\nLine \u001b[0;34m193\u001b[0m:   renderer.activate()\n",
      "File \u001b[0;34m/srv/conda/envs/notebook/lib/python3.7/site-packages/plotly/io/_base_renderers.py\u001b[0m, in \u001b[0;32mactivate\u001b[0m:\nLine \u001b[0;34m327\u001b[0m:   ipython_display.display_html(script, raw=\u001b[34mTrue\u001b[39;49;00m)\n",
      "\u001b[0;31mTypeError\u001b[0m: Object of type 'list' is not an instance of 'args'\n\u001b[0;31m---------------------------------------------------------------------------\u001b[0m"
     ]
    }
   ],
   "source": [
    "!pip install yfinance\n",
    "!pip install pandas\n",
    "!pip install requests\n",
    "!pip install bs4\n",
    "!pip install plotly\n",
    "import yfinance as yf\n",
    "import pandas as pd\n",
    "import requests\n",
    "from bs4 import BeautifulSoup\n",
    "import plotly.graph_objects as go\n",
    "from plotly.subplots import make_subplots\n",
    "def make_graph(stock_data, revenue_data, stock):\n",
    "    fig = make_subplots(rows=2, cols=1, shared_xaxes=True, subplot_titles=(\"Historical Share Price\", \"Historical Revenue\"), vertical_spacing = .3)\n",
    "    fig.add_trace(go.Scatter(x=pd.to_datetime(stock_data.Date, infer_datetime_format=True), y=stock_data.Close.astype(\"float\"), name=\"Share Price\"), row=1, col=1)\n",
    "    fig.add_trace(go.Scatter(x=pd.to_datetime(revenue_data.Date, infer_datetime_format=True), y=revenue_data.Revenue.astype(\"float\"), name=\"Revenue\"), row=2, col=1)\n",
    "    fig.update_xaxes(title_text=\"Date\", row=1, col=1)\n",
    "    fig.update_xaxes(title_text=\"Date\", row=2, col=1)\n",
    "    fig.update_yaxes(title_text=\"Price ($US)\", row=1, col=1)\n",
    "    fig.update_yaxes(title_text=\"Revenue ($US Millions)\", row=2, col=1)\n",
    "    fig.update_layout(showlegend=False,\n",
    "    height=900,\n",
    "    title=stock,\n",
    "    xaxis_rangeslider_visible=True)\n",
    "    fig.show()\n",
    "tesla = yf.Ticker(\"TSLA\")\n",
    "tesla_data = tesla.history(period=\"max\")\n",
    "tesla_data.reset_index(inplace=True)\n",
    "print(tesla_data.head())\n",
    "html_data = requests.get(\"https://www.macrotrends.net/stocks/charts/TSLA/tesla/revenue\").text\n",
    "tesla_soup = BeautifulSoup(html_data,'html.parser')\n",
    "tesla_tables = tesla_soup.find_all('table')\n",
    "tesla_revenue = pd.DataFrame(columns=[\"Date\", \"Revenue\"])\n",
    "print(len(tesla_tables))\n",
    "for index,table in enumerate(tesla_tables):\n",
    "    if (\"Tesla Quarterly Revenue\" in str(table)):\n",
    "        quarterly_revenue_index = index\n",
    "        for row in tesla_tables[quarterly_revenue_index].tbody.find_all(\"tr\"):\n",
    "            col = row.find_all(\"td\")\n",
    "            if (col != []):\n",
    "                date = col[0].text\n",
    "                revenue = col[1].text\n",
    "                revenue = col[1].text.replace(\"$\", \"\").replace(\",\", \"\")\n",
    "                tesla_revenue = tesla_revenue.append({\"Date\":date, \"Revenue\":revenue}, ignore_index=True)\n",
    "                tesla_revenue.dropna(inplace=True)\n",
    "                tesla_revenue = tesla_revenue[tesla_revenue['Revenue'] != \"\"]\n",
    "print(tesla_revenue.tail())\n",
    "gme = yf.Ticker(\"GME\")\n",
    "gme_data = gme.history(period=\"max\")\n",
    "gme_data.reset_index(inplace=True)\n",
    "print(gme_data.head())\n",
    "html_data  = requests.get(\"https://www.macrotrends.net/stocks/charts/GME/gamestop/revenue\").text\n",
    "gme_soup = BeautifulSoup(html_data,'html.parser')\n",
    "gme_tables = gme_soup.find_all('table')\n",
    "gme_revenue = pd.DataFrame(columns=[\"Date\", \"Revenue\"])\n",
    "print(len(gme_tables))\n",
    "quarterly_revenue_index_two = 0\n",
    "for index,table in enumerate(gme_tables):\n",
    "    if (\"GameStop Quarterly Revenue\" in str(table)):\n",
    "        quarterly_revenue_index_two = index\n",
    "        for row in gme_tables[quarterly_revenue_index_two].tbody.find_all(\"tr\"):\n",
    "            col = row.find_all(\"td\")\n",
    "            if (col != []):\n",
    "                date = col[0].text\n",
    "                revenue = col[1].text\n",
    "                revenue = col[1].text.replace(\"$\", \"\").replace(\",\", \"\")\n",
    "                gme_revenue = gme_revenue.append({\"Date\":date, \"Revenue\":revenue}, ignore_index=True)\n",
    "                gme_revenue.dropna(inplace=True)\n",
    "                gme_revenue = gme_revenue[gme_revenue['Revenue']!= \"\"]\n",
    "print(gme_revenue.tail())\n",
    "print(type(tesla_data))\n",
    "print(type(tesla_revenue))\n",
    "make_graph(tesla_data, tesla_revenue, 'Tesla')\n",
    "make_graph(gme_data, gme_revenue, 'GameStop')"
   ]
  },
  {
   "cell_type": "code",
   "execution_count": null,
   "id": "featured-chinese",
   "metadata": {},
   "outputs": [],
   "source": []
  },
  {
   "cell_type": "code",
   "execution_count": null,
   "id": "warming-education",
   "metadata": {},
   "outputs": [],
   "source": []
  }
 ],
 "metadata": {
  "kernelspec": {
   "display_name": "Python 3.7 (XPython)",
   "language": "python",
   "name": "xpython"
  },
  "language_info": {
   "file_extension": ".py",
   "mimetype": "text/x-python",
   "name": "python",
   "version": "3.7.9"
  }
 },
 "nbformat": 4,
 "nbformat_minor": 5
}
